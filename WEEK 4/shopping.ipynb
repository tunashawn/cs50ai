{
 "cells": [
  {
   "cell_type": "code",
   "execution_count": null,
   "metadata": {},
   "outputs": [],
   "source": [
    "import pandas as pd\n",
    "\n",
    "from sklearn.model_selection import train_test_split\n",
    "from sklearn.neighbors import KNeighborsClassifier"
   ]
  },
  {
   "cell_type": "code",
   "execution_count": null,
   "metadata": {},
   "outputs": [],
   "source": [
    "TEST_SIZE = 0.4"
   ]
  },
  {
   "cell_type": "code",
   "execution_count": null,
   "metadata": {},
   "outputs": [],
   "source": [
    "def load_data(filename):\n",
    "    \"\"\"\n",
    "    Load shopping data from a CSV file `filename` and convert into a list of\n",
    "    evidence lists and a list of labels. Return a tuple (evidence, labels).\n",
    "\n",
    "    evidence should be a list of lists, where each list contains the\n",
    "    following values, in order:\n",
    "        - Administrative, an integer\n",
    "        - Administrative_Duration, a floating point number\n",
    "        - Informational, an integer\n",
    "        - Informational_Duration, a floating point number\n",
    "        - ProductRelated, an integer\n",
    "        - ProductRelated_Duration, a floating point number\n",
    "        - BounceRates, a floating point number\n",
    "        - ExitRates, a floating point number\n",
    "        - PageValues, a floating point number\n",
    "        - SpecialDay, a floating point number\n",
    "        - Month, an index from 0 (January) to 11 (December)\n",
    "        - OperatingSystems, an integer\n",
    "        - Browser, an integer\n",
    "        - Region, an integer\n",
    "        - TrafficType, an integer\n",
    "        - VisitorType, an integer 0 (not returning) or 1 (returning)\n",
    "        - Weekend, an integer 0 (if false) or 1 (if true)\n",
    "\n",
    "    labels should be the corresponding list of labels, where each label\n",
    "    is 1 if Revenue is true, and 0 otherwise.\n",
    "    \"\"\"\n",
    "    raise NotImplementedError"
   ]
  },
  {
   "cell_type": "code",
   "execution_count": null,
   "metadata": {},
   "outputs": [],
   "source": [
    "\n",
    "def train_model(evidence, labels):\n",
    "    \"\"\"\n",
    "    Given a list of evidence lists and a list of labels, return a\n",
    "    fitted k-nearest neighbor model (k=1) trained on the data.\n",
    "    \"\"\"\n",
    "    raise NotImplementedError"
   ]
  },
  {
   "cell_type": "code",
   "execution_count": null,
   "metadata": {},
   "outputs": [],
   "source": [
    "def evaluate(labels, predictions):\n",
    "    \"\"\"\n",
    "    Given a list of actual labels and a list of predicted labels,\n",
    "    return a tuple (sensitivity, specificity).\n",
    "\n",
    "    Assume each label is either a 1 (positive) or 0 (negative).\n",
    "\n",
    "    `sensitivity` should be a floating-point value from 0 to 1\n",
    "    representing the \"true positive rate\": the proportion of\n",
    "    actual positive labels that were accurately identified.\n",
    "\n",
    "    `specificity` should be a floating-point value from 0 to 1\n",
    "    representing the \"true negative rate\": the proportion of\n",
    "    actual negative labels that were accurately identified.\n",
    "    \"\"\"\n",
    "    raise NotImplementedError"
   ]
  },
  {
   "cell_type": "code",
   "execution_count": null,
   "metadata": {},
   "outputs": [],
   "source": [
    "# Train model and make predictions\n",
    "model = train_model(X_train, y_train)\n",
    "predictions = model.predict(X_test)\n",
    "sensitivity, specificity = evaluate(y_test, predictions)\n",
    "\n",
    "# Print results\n",
    "print(f\"Correct: {(y_test == predictions).sum()}\")\n",
    "print(f\"Incorrect: {(y_test != predictions).sum()}\")\n",
    "print(f\"True Positive Rate: {100 * sensitivity:.2f}%\")\n",
    "print(f\"True Negative Rate: {100 * specificity:.2f}%\")"
   ]
  }
 ],
 "metadata": {
  "kernelspec": {
   "display_name": "Python 3.10.7 64-bit",
   "language": "python",
   "name": "python3"
  },
  "language_info": {
   "name": "python",
   "version": "3.10.7"
  },
  "orig_nbformat": 4,
  "vscode": {
   "interpreter": {
    "hash": "55ab80ba0cbcf524a2fcc5cda08470cc5f72a44e2c66b4105b51229508802a65"
   }
  }
 },
 "nbformat": 4,
 "nbformat_minor": 2
}
